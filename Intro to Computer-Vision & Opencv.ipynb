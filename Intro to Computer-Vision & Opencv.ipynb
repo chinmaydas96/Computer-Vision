{
 "cells": [
  {
   "cell_type": "markdown",
   "metadata": {},
   "source": [
    "# <center> OpenCV with Python </center>"
   ]
  },
  {
   "cell_type": "markdown",
   "metadata": {},
   "source": [
    "## Problems in Computer Vision\n",
    "\n",
    "* Camera sensor & lens limitaiton\n",
    "* View Point Variation\n",
    "* Changing lighting\n",
    "* scaling\n",
    "* Non-rigid deformation\n",
    "* Occlusion - partially blocked images\n",
    "* Clutter - noisy background\n",
    "* Object class variation\n",
    "* Ambiguous images / Optical illusions"
   ]
  },
  {
   "cell_type": "markdown",
   "metadata": {},
   "source": [
    "### What are images and representation?\n",
    "* Images - 2D representaion of visible light spectrum. \n",
    "* OpenCV uses **RBG** color space by default.\n",
    "* Each pixel cordinate(x,y) contains 3 values ranging for intensities of 0 to 255(8 bit).\n",
    "* images are stored in multi dimentional array.\n",
    "\n",
    "#### Black and White or Grayscale images - \n",
    "* Stored in 2 dimentional array.\n",
    "* There are 2 type of B&W images.\n",
    "    * Grayscale - Ranges of shades of gray. \n",
    "    * Binary - pixel are either black and white.    "
   ]
  },
  {
   "cell_type": "code",
   "execution_count": 1,
   "metadata": {
    "collapsed": true
   },
   "outputs": [],
   "source": [
    "import cv2 \n",
    "import numpy\n",
    "import matplotlib.pyplot as plt \n",
    "%matplotlib inline"
   ]
  },
  {
   "cell_type": "code",
   "execution_count": 2,
   "metadata": {},
   "outputs": [],
   "source": [
    "input = cv2.imread('./images/butterfly.jpg')\n",
    "\n",
    "cv2.imshow('butterfly',input)\n",
    "cv2.waitKey(0)\n",
    "cv2.destroyAllWindows()"
   ]
  },
  {
   "cell_type": "code",
   "execution_count": 3,
   "metadata": {},
   "outputs": [
    {
     "data": {
      "text/plain": [
       "(640, 960, 3)"
      ]
     },
     "execution_count": 3,
     "metadata": {},
     "output_type": "execute_result"
    }
   ],
   "source": [
    "# shape of image\n",
    "#(height,width)\n",
    "\n",
    "input.shape"
   ]
  },
  {
   "cell_type": "code",
   "execution_count": 4,
   "metadata": {},
   "outputs": [
    {
     "data": {
      "text/plain": [
       "True"
      ]
     },
     "execution_count": 4,
     "metadata": {},
     "output_type": "execute_result"
    }
   ],
   "source": [
    "# save the images in OpenCV\n",
    "\n",
    "cv2.imwrite('./images/output.jpg',input)"
   ]
  },
  {
   "cell_type": "markdown",
   "metadata": {},
   "source": [
    "### Grayscaling\n",
    "\n",
    "* Images are converted colored to shades of grey.\n",
    "* Helps in noise reduction and increase in processing time. \n",
    "\n",
    "### Convert color image to grayscale"
   ]
  },
  {
   "cell_type": "code",
   "execution_count": 5,
   "metadata": {},
   "outputs": [
    {
     "data": {
      "text/plain": [
       "1048586"
      ]
     },
     "execution_count": 5,
     "metadata": {},
     "output_type": "execute_result"
    }
   ],
   "source": [
    "import cv2\n",
    "\n",
    "# Load the image\n",
    "\n",
    "image = cv2.imread('./images/butterfly.jpg')\n",
    "cv2.imshow('Original',image)\n",
    "cv2.waitKey()"
   ]
  },
  {
   "cell_type": "code",
   "execution_count": 6,
   "metadata": {},
   "outputs": [],
   "source": [
    "# convertion to grayscale\n",
    "gray_image = cv2.cvtColor(image,cv2.COLOR_BGR2GRAY)\n",
    "\n",
    "cv2.imshow('Grayscale',gray_image)\n",
    "cv2.waitKey()\n",
    "cv2.destroyAllWindows()"
   ]
  },
  {
   "cell_type": "code",
   "execution_count": 7,
   "metadata": {
    "collapsed": true
   },
   "outputs": [],
   "source": [
    "# Another faster method to do so\n",
    "\n",
    "img = cv2.imread('./images/butterfly.jpg',0)\n",
    "cv2.imshow('Grayscale',img)\n",
    "cv2.waitKey()\n",
    "cv2.destroyAllWindows()"
   ]
  },
  {
   "cell_type": "markdown",
   "metadata": {},
   "source": [
    "## Color Spaces\n",
    "\n",
    "* RGB, HSV, CMYK\n",
    "* OpenCV uses RBG, but **actual order is BGR and stored in RGB.**\n",
    "\n",
    "### HSV Color Space\n",
    "![HSV](images/HSV.png)\n",
    "\n",
    "* Hue, Saturation, Value/Brightness represent the color human percieve it.\n",
    "* Store color information in a cylindrical representation of RGB color points.\n",
    "    * Hue - Color value (0-179)\n",
    "    * Saturation - Vibrancy of color (0-255)\n",
    "    * Value - Brightness or intensity (0-255)\n",
    "* In **RGB color** , specific color filtering **isn't easy**.\n",
    "* **HSV** makes it **much easier** to set color ranges to filter specific colors as we perceive them.\n",
    "![color specs](images/color_hsv.jpg)\n",
    "\n",
    "    * Red - 165 to 15\n",
    "    * Green - 45 to 75\n",
    "    * Blue - 90 to 120"
   ]
  },
  {
   "cell_type": "code",
   "execution_count": 8,
   "metadata": {
    "collapsed": true
   },
   "outputs": [],
   "source": [
    "import cv2\n",
    "import numpy as np\n",
    "\n",
    "image = cv2.imread('./images/butterfly.jpg')"
   ]
  },
  {
   "cell_type": "code",
   "execution_count": 9,
   "metadata": {},
   "outputs": [
    {
     "name": "stdout",
     "output_type": "stream",
     "text": [
      "Shape of the image -  (640, 960, 3)\n",
      "B G R -  70 91 119\n"
     ]
    }
   ],
   "source": [
    "# size of the image\n",
    "print(\"Shape of the image - \",image.shape)\n",
    "\n",
    "# BGR value of the first pixel\n",
    "B, G, R = image[0, 0]\n",
    "print(\"B G R - \",B, G, R)"
   ]
  },
  {
   "cell_type": "code",
   "execution_count": 10,
   "metadata": {},
   "outputs": [
    {
     "name": "stdout",
     "output_type": "stream",
     "text": [
      "(640, 960)\n"
     ]
    }
   ],
   "source": [
    "gray_image = cv2.imread('./images/butterfly.jpg',0)\n",
    "print(gray_image.shape)"
   ]
  },
  {
   "cell_type": "code",
   "execution_count": 11,
   "metadata": {},
   "outputs": [
    {
     "data": {
      "text/plain": [
       "97"
      ]
     },
     "execution_count": 11,
     "metadata": {},
     "output_type": "execute_result"
    }
   ],
   "source": [
    "gray_image[0,0]"
   ]
  },
  {
   "cell_type": "markdown",
   "metadata": {
    "collapsed": true
   },
   "source": [
    "### Using HSV Color Space  \n",
    "\n",
    "* Useful for color filtering."
   ]
  },
  {
   "cell_type": "code",
   "execution_count": 12,
   "metadata": {},
   "outputs": [],
   "source": [
    "# H : 0-180, S : 0-255, V : 0-255\n",
    "\n",
    "import cv2\n",
    "image = cv2.imread('./images/butterfly.jpg')\n",
    "hsv_image = cv2.cvtColor(image,cv2.COLOR_BGR2HSV)\n",
    "\n",
    "cv2.imshow('HSV image',hsv_image)\n",
    "cv2.imshow('Hue channel',hsv_image[:,:,0])\n",
    "cv2.imshow('Saturation channel',hsv_image[:,:,1])\n",
    "cv2.imshow('Value channel',hsv_image[:,:,2])\n",
    "\n",
    "cv2.waitKey()\n",
    "cv2.destroyAllWindows()"
   ]
  },
  {
   "cell_type": "code",
   "execution_count": 13,
   "metadata": {},
   "outputs": [
    {
     "data": {
      "text/plain": [
       "(640, 960, 3)"
      ]
     },
     "execution_count": 13,
     "metadata": {},
     "output_type": "execute_result"
    }
   ],
   "source": [
    "hsv_image.shape"
   ]
  },
  {
   "cell_type": "markdown",
   "metadata": {
    "collapsed": true
   },
   "source": [
    "### Exploring indivisual channel in RGB image"
   ]
  },
  {
   "cell_type": "code",
   "execution_count": 1,
   "metadata": {
    "collapsed": true
   },
   "outputs": [],
   "source": [
    "import cv2\n",
    "\n",
    "image = cv2.imread('./images/butterfly.jpg')\n",
    "\n",
    "# split function splits the image into each color index\n",
    "B, G, R = cv2.split(image)\n",
    "cv2.imshow('RED',R)\n",
    "cv2.imshow('GREEN',G)\n",
    "cv2.imshow('BLUE',B)\n",
    "\n",
    "cv2.waitKey(0)\n",
    "cv2.destroyAllWindows()"
   ]
  },
  {
   "cell_type": "markdown",
   "metadata": {},
   "source": [
    "### Remake the original image"
   ]
  },
  {
   "cell_type": "code",
   "execution_count": 3,
   "metadata": {},
   "outputs": [],
   "source": [
    "merged = cv2.merge([B, G, R])\n",
    "cv2.imshow(\"Merged\",merged)\n",
    "\n",
    "# amplify the blue color\n",
    "\n",
    "merged1 = cv2.merge([B+100, G, R])\n",
    "cv2.imshow(\"merged with blue\",merged1)\n",
    "cv2.waitKey(0)\n",
    "cv2.destroyAllWindows()"
   ]
  },
  {
   "cell_type": "code",
   "execution_count": 8,
   "metadata": {},
   "outputs": [],
   "source": [
    "# create image with one color channel\n",
    "\n",
    "import cv2 \n",
    "import numpy as np\n",
    "image = cv2.imread('./images/butterfly.jpg')\n",
    "\n",
    "B, G, R = cv2.split(image)\n",
    "\n",
    "# create a matrix of zeros with dimention h x w\n",
    "\n",
    "zeros = np.zeros(image.shape[:2],dtype=\"uint8\")\n",
    "\n",
    "cv2.imshow('RED',cv2.merge([zeros, zeros, R]))\n",
    "cv2.imshow('GREEN',cv2.merge([zeros, G, zeros]))\n",
    "cv2.imshow('BLUE',cv2.merge([B, zeros, zeros]))\n",
    "\n",
    "cv2.waitKey(0)\n",
    "cv2.destroyAllWindows()\n"
   ]
  },
  {
   "cell_type": "code",
   "execution_count": 18,
   "metadata": {},
   "outputs": [],
   "source": [
    "import matplotlib.pyplot  as plt\n",
    "%matplotlib inline\n",
    "def show(image):\n",
    "    \n",
    "    # Figure size in inches\n",
    "    plt.figure(figsize=(10, 10))\n",
    "\n",
    "    # Show image, with nearest neighbour interpolation\n",
    "    plt.imshow(image, interpolation='nearest')\n",
    "    \n"
   ]
  },
  {
   "cell_type": "markdown",
   "metadata": {},
   "source": [
    "## Visualise the image with Histogram "
   ]
  },
  {
   "cell_type": "code",
   "execution_count": 24,
   "metadata": {},
   "outputs": [
    {
     "data": {
      "image/png": "[encoded data removed]",
      "text/plain": [
       "<matplotlib.figure.Figure at 0x7fbb6cbbebe0>"
      ]
     },
     "metadata": {},
     "output_type": "display_data"
    },
    {
     "data": {
      "image/png": "[encoded data removed]",
      "text/plain": [
       "<matplotlib.figure.Figure at 0x7fbb394f97b8>"
      ]
     },
     "metadata": {},
     "output_type": "display_data"
    }
   ],
   "source": [
    "import cv2\n",
    "import numpy as np\n",
    "import matplotlib.pyplot as plt\n",
    "\n",
    "\n",
    "image = cv2.imread('./images/nature.jpg')\n",
    "\n",
    "histogram = cv2.calcHist([image], [0], None, [256], [0,256])\n",
    "\n",
    "# ravel flaten our image array \n",
    "plt.hist(image.ravel(),256,[0,256]);plt.show()\n",
    "\n",
    "\n",
    "color = ('b', 'g', 'r')\n",
    "\n",
    "for i,col in enumerate(color):\n",
    "    histogram2 = cv2.calcHist([image], [i], None, [256], [0,256])\n",
    "    plt.plot(histogram2,color= col)\n",
    "    plt.xlim([0,256])\n",
    "plt.show()    "
   ]
  },
  {
   "cell_type": "code",
   "execution_count": 1,
   "metadata": {},
   "outputs": [
    {
     "ename": "NameError",
     "evalue": "name 'show' is not defined",
     "output_type": "error",
     "traceback": [
      "\u001b[0;31m---------------------------------------------------------------------------\u001b[0m",
      "\u001b[0;31mNameError\u001b[0m                                 Traceback (most recent call last)",
      "\u001b[0;32m<ipython-input-1-afd87bf0ea1c>\u001b[0m in \u001b[0;36m<module>\u001b[0;34m()\u001b[0m\n\u001b[0;32m----> 1\u001b[0;31m \u001b[0mshow\u001b[0m\u001b[0;34m(\u001b[0m\u001b[0mimage\u001b[0m\u001b[0;34m)\u001b[0m\u001b[0;34m\u001b[0m\u001b[0m\n\u001b[0m",
      "\u001b[0;31mNameError\u001b[0m: name 'show' is not defined"
     ]
    }
   ],
   "source": [
    "show(image)"
   ]
  },
  {
   "cell_type": "code",
   "execution_count": 4,
   "metadata": {},
   "outputs": [
    {
     "data": {
      "image/png": "[encoded data removed]",
      "text/plain": [
       "<matplotlib.figure.Figure at 0x7fe94af0e2e8>"
      ]
     },
     "metadata": {},
     "output_type": "display_data"
    },
    {
     "data": {
      "image/png": "[encoded data removed]",
      "text/plain": [
       "<matplotlib.figure.Figure at 0x7fe95fd9b2e8>"
      ]
     },
     "metadata": {},
     "output_type": "display_data"
    },
    {
     "data": {
      "image/png": "[encoded data removed]",
      "text/plain": [
       "<matplotlib.figure.Figure at 0x7fe92446c780>"
      ]
     },
     "metadata": {},
     "output_type": "display_data"
    }
   ],
   "source": [
    "def show_rgb_hist(image):\n",
    "    colours = ('r','g','b')\n",
    "    for i, c in enumerate(colours):\n",
    "        plt.figure(figsize=(20, 4))\n",
    "        histr = cv2.calcHist([image], [i], None, [256], [0, 256])\n",
    "\n",
    "        if c == 'r': colours = [((i/256, 0, 0)) for i in range(0, 256)]\n",
    "        if c == 'g': colours = [((0, i/256, 0)) for i in range(0, 256)]\n",
    "        if c == 'b': colours = [((0, 0, i/256)) for i in range(0, 256)]\n",
    "\n",
    "        plt.bar(range(0, 256), histr, color=colours, edgecolor=colours, width=1)\n",
    "\n",
    "        plt.show()\n",
    "        \n",
    "import cv2\n",
    "import matplotlib.pyplot as plt\n",
    "image = cv2.imread('./images/nature.jpg')\n",
    "show_rgb_hist(image)\n"
   ]
  },
  {
   "cell_type": "code",
   "execution_count": null,
   "metadata": {},
   "outputs": [],
   "source": []
  },
  {
   "cell_type": "code",
   "execution_count": null,
   "metadata": {
    "collapsed": true
   },
   "outputs": [],
   "source": []
  },
  {
   "cell_type": "code",
   "execution_count": null,
   "metadata": {
    "collapsed": true
   },
   "outputs": [],
   "source": []
  },
  {
   "cell_type": "code",
   "execution_count": null,
   "metadata": {
    "collapsed": true
   },
   "outputs": [],
   "source": []
  },
  {
   "cell_type": "code",
   "execution_count": null,
   "metadata": {
    "collapsed": true
   },
   "outputs": [],
   "source": []
  },
  {
   "cell_type": "code",
   "execution_count": null,
   "metadata": {
    "collapsed": true
   },
   "outputs": [],
   "source": []
  },
  {
   "cell_type": "code",
   "execution_count": null,
   "metadata": {
    "collapsed": true
   },
   "outputs": [],
   "source": []
  },
  {
   "cell_type": "code",
   "execution_count": null,
   "metadata": {
    "collapsed": true
   },
   "outputs": [],
   "source": []
  },
  {
   "cell_type": "code",
   "execution_count": null,
   "metadata": {
    "collapsed": true
   },
   "outputs": [],
   "source": []
  },
  {
   "cell_type": "code",
   "execution_count": null,
   "metadata": {
    "collapsed": true
   },
   "outputs": [],
   "source": []
  },
  {
   "cell_type": "code",
   "execution_count": null,
   "metadata": {
    "collapsed": true
   },
   "outputs": [],
   "source": []
  },
  {
   "cell_type": "code",
   "execution_count": null,
   "metadata": {
    "collapsed": true
   },
   "outputs": [],
   "source": []
  },
  {
   "cell_type": "code",
   "execution_count": null,
   "metadata": {
    "collapsed": true
   },
   "outputs": [],
   "source": []
  },
  {
   "cell_type": "code",
   "execution_count": null,
   "metadata": {
    "collapsed": true
   },
   "outputs": [],
   "source": []
  },
  {
   "cell_type": "code",
   "execution_count": null,
   "metadata": {
    "collapsed": true
   },
   "outputs": [],
   "source": []
  },
  {
   "cell_type": "code",
   "execution_count": null,
   "metadata": {
    "collapsed": true
   },
   "outputs": [],
   "source": []
  },
  {
   "cell_type": "code",
   "execution_count": null,
   "metadata": {
    "collapsed": true
   },
   "outputs": [],
   "source": []
  },
  {
   "cell_type": "code",
   "execution_count": null,
   "metadata": {
    "collapsed": true
   },
   "outputs": [],
   "source": []
  },
  {
   "cell_type": "code",
   "execution_count": null,
   "metadata": {
    "collapsed": true
   },
   "outputs": [],
   "source": []
  },
  {
   "cell_type": "code",
   "execution_count": null,
   "metadata": {
    "collapsed": true
   },
   "outputs": [],
   "source": []
  },
  {
   "cell_type": "code",
   "execution_count": null,
   "metadata": {
    "collapsed": true
   },
   "outputs": [],
   "source": []
  },
  {
   "cell_type": "code",
   "execution_count": null,
   "metadata": {
    "collapsed": true
   },
   "outputs": [],
   "source": []
  },
  {
   "cell_type": "code",
   "execution_count": null,
   "metadata": {
    "collapsed": true
   },
   "outputs": [],
   "source": []
  },
  {
   "cell_type": "code",
   "execution_count": null,
   "metadata": {
    "collapsed": true
   },
   "outputs": [],
   "source": []
  },
  {
   "cell_type": "code",
   "execution_count": null,
   "metadata": {
    "collapsed": true
   },
   "outputs": [],
   "source": []
  },
  {
   "cell_type": "code",
   "execution_count": null,
   "metadata": {
    "collapsed": true
   },
   "outputs": [],
   "source": []
  },
  {
   "cell_type": "code",
   "execution_count": null,
   "metadata": {
    "collapsed": true
   },
   "outputs": [],
   "source": []
  },
  {
   "cell_type": "code",
   "execution_count": null,
   "metadata": {
    "collapsed": true
   },
   "outputs": [],
   "source": []
  }
 ],
 "metadata": {
  "kernelspec": {
   "display_name": "Python [conda env:Python-3]",
   "language": "python",
   "name": "conda-env-Python-3-py"
  },
  "language_info": {
   "codemirror_mode": {
    "name": "ipython",
    "version": 3
   },
   "file_extension": ".py",
   "mimetype": "text/x-python",
   "name": "python",
   "nbconvert_exporter": "python",
   "pygments_lexer": "ipython3",
   "version": "3.5.4"
  }
 },
 "nbformat": 4,
 "nbformat_minor": 2
}
