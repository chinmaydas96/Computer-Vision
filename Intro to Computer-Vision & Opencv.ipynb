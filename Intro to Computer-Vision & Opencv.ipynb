{
 "cells": [
  {
   "cell_type": "markdown",
   "metadata": {},
   "source": [
    "# <center> OpenCV with Python </center>"
   ]
  },
  {
   "cell_type": "markdown",
   "metadata": {},
   "source": [
    "## Problems in Computer Vision\n",
    "\n",
    "* Camera sensor & lens limitaiton\n",
    "* View Point Variation\n",
    "* Changing lighting\n",
    "* scaling\n",
    "* Non-rigid deformation\n",
    "* Occlusion - partially blocked images\n",
    "* Clutter - noisy background\n",
    "* Object class variation\n",
    "* Ambiguous images / Optical illusions"
   ]
  },
  {
   "cell_type": "markdown",
   "metadata": {},
   "source": [
    "### What are images and representation?\n",
    "* Images - 2D representaion of visible light spectrum. \n",
    "* OpenCV uses **RBG** color space by default.\n",
    "* Each pixel cordinate(x,y) contains 3 values ranging for intensities of 0 to 255(8 bit).\n",
    "* images are stored in multi dimentional array.\n",
    "\n",
    "#### Black and White or Grayscale images - \n",
    "* Stored in 2 dimentional array.\n",
    "* There are 2 type of B&W images.\n",
    "    * Grayscale - Ranges of shades of gray. \n",
    "    * Binary - pixel are either black and white.    "
   ]
  },
  {
   "cell_type": "code",
   "execution_count": 3,
   "metadata": {
    "collapsed": true
   },
   "outputs": [],
   "source": [
    "import cv2 \n",
    "import numpy"
   ]
  },
  {
   "cell_type": "code",
   "execution_count": 3,
   "metadata": {
    "collapsed": true
   },
   "outputs": [],
   "source": [
    "input = cv2.imread('./images/butterfly.jpg')\n",
    "cv2.imshow('butterfly',input)\n",
    "cv2.waitKey(0)\n",
    "cv2.destroyAllWindows()"
   ]
  },
  {
   "cell_type": "code",
   "execution_count": 7,
   "metadata": {},
   "outputs": [
    {
     "data": {
      "text/plain": [
       "(640, 960, 3)"
      ]
     },
     "execution_count": 7,
     "metadata": {},
     "output_type": "execute_result"
    }
   ],
   "source": [
    "# shape of image\n",
    "#(height,width)\n",
    "\n",
    "input.shape"
   ]
  },
  {
   "cell_type": "code",
   "execution_count": 9,
   "metadata": {},
   "outputs": [
    {
     "data": {
      "text/plain": [
       "True"
      ]
     },
     "execution_count": 9,
     "metadata": {},
     "output_type": "execute_result"
    }
   ],
   "source": [
    "# save the images in OpenCV\n",
    "\n",
    "cv2.imwrite('./images/output.jpg',input)"
   ]
  },
  {
   "cell_type": "markdown",
   "metadata": {},
   "source": [
    "### Grayscaling\n",
    "\n",
    "* Images are converted colored to shades of grey.\n",
    "* Helps in noise reduction and increase in processing time. \n",
    "\n",
    "### Convert color image to grayscale"
   ]
  },
  {
   "cell_type": "code",
   "execution_count": 5,
   "metadata": {
    "collapsed": true
   },
   "outputs": [],
   "source": [
    "import cv2\n",
    "\n",
    "# Load the image\n",
    "image = cv2.imread('./images/butterfly.jpg')\n",
    "cv2.imshow('Original',image)\n",
    "cv2.waitKey()\n",
    "\n",
    "# convertion to grayscale\n",
    "gray_image = cv2.cvtColor(image,cv2.COLOR_BGR2GRAY)\n",
    "\n",
    "cv2.imshow('Grayscale',gray_image)\n",
    "cv2.waitKey()\n",
    "cv2.destroyAllWindows()"
   ]
  },
  {
   "cell_type": "code",
   "execution_count": 7,
   "metadata": {
    "collapsed": true
   },
   "outputs": [],
   "source": [
    "# Another faster method to do so\n",
    "\n",
    "img = cv2.imread('./images/butterfly.jpg',0)\n",
    "cv2.imshow('Grayscale',img)\n",
    "cv2.waitKey()\n",
    "cv2.destroyAllWindows()"
   ]
  },
  {
   "cell_type": "markdown",
   "metadata": {},
   "source": [
    "## Color Spaces\n",
    "\n",
    "* RGB, HSV, CMYK\n",
    "* OpenCV uses RBG, but **actual order is BGR and stored in RGB.**\n",
    "\n",
    "### HSV Color Space\n",
    "![HSV](images/HSV.png)\n",
    "\n",
    "* Hue, Saturation, Value/Brightness represent the color human percieve it.\n",
    "* Store color information in a cylindrical representation of RGB color points.\n",
    "    * Hue - Color value (0-179)\n",
    "    * Saturation - Vibrancy of color (0-255)\n",
    "    * Value - Brightness or intensity (0-255)\n",
    "* In **RGB color** , specific color filtering **isn't easy**.\n",
    "* **HSV** makes it **much easier** to set color ranges to filter specific colors as we perceive them.\n",
    "![color specs](images/color_hsv.jpg)\n",
    "\n",
    "    * Red - 165 to 15\n",
    "    * Green - 45 to 75\n",
    "    * Blue - 90 to 120"
   ]
  },
  {
   "cell_type": "code",
   "execution_count": 1,
   "metadata": {
    "collapsed": true
   },
   "outputs": [],
   "source": [
    "import cv2\n",
    "import numpy as np\n",
    "\n",
    "image = cv2.imread('./images/butterfly.jpg')"
   ]
  },
  {
   "cell_type": "code",
   "execution_count": 5,
   "metadata": {},
   "outputs": [
    {
     "name": "stdout",
     "output_type": "stream",
     "text": [
      "Shape of the image -  (640, 960, 3)\n",
      "B G R -  70 91 119\n"
     ]
    }
   ],
   "source": [
    "# size of the image\n",
    "print(\"Shape of the image - \",image.shape)\n",
    "\n",
    "# BGR value of the first pixel\n",
    "B, G, R = image[0, 0]\n",
    "print(\"B G R - \",B, G, R)"
   ]
  },
  {
   "cell_type": "code",
   "execution_count": 6,
   "metadata": {},
   "outputs": [
    {
     "name": "stdout",
     "output_type": "stream",
     "text": [
      "(640, 960)\n"
     ]
    }
   ],
   "source": [
    "gray_image = cv2.imread('./images/butterfly.jpg',0)\n",
    "print(gray_image.shape)"
   ]
  },
  {
   "cell_type": "code",
   "execution_count": 7,
   "metadata": {},
   "outputs": [
    {
     "data": {
      "text/plain": [
       "97"
      ]
     },
     "execution_count": 7,
     "metadata": {},
     "output_type": "execute_result"
    }
   ],
   "source": [
    "gray_image[0,0]"
   ]
  },
  {
   "cell_type": "code",
   "execution_count": null,
   "metadata": {
    "collapsed": true
   },
   "outputs": [],
   "source": []
  },
  {
   "cell_type": "code",
   "execution_count": null,
   "metadata": {
    "collapsed": true
   },
   "outputs": [],
   "source": []
  },
  {
   "cell_type": "code",
   "execution_count": null,
   "metadata": {
    "collapsed": true
   },
   "outputs": [],
   "source": []
  },
  {
   "cell_type": "code",
   "execution_count": null,
   "metadata": {
    "collapsed": true
   },
   "outputs": [],
   "source": []
  }
 ],
 "metadata": {
  "kernelspec": {
   "display_name": "Python [conda env:Python-3]",
   "language": "python",
   "name": "conda-env-Python-3-py"
  },
  "language_info": {
   "codemirror_mode": {
    "name": "ipython",
    "version": 3
   },
   "file_extension": ".py",
   "mimetype": "text/x-python",
   "name": "python",
   "nbconvert_exporter": "python",
   "pygments_lexer": "ipython3",
   "version": "3.5.4"
  }
 },
 "nbformat": 4,
 "nbformat_minor": 2
}
